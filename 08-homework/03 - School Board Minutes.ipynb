{
 "cells": [
  {
   "cell_type": "markdown",
   "metadata": {},
   "source": [
    "# School Board Minutes\n",
    "\n",
    "Scrape all of the school board minutes from http://www.mineral.k12.nv.us/pages/School_Board_Minutes\n",
    "\n",
    "Save a CSV called `minutes.csv` with the date and the URL to the file. The date should be formatted as YYYY-MM-DD.\n",
    "\n",
    "**Bonus:** Download the PDF files\n",
    "\n",
    "**Bonus 2:** Use [PDF OCR X](https://solutions.weblite.ca/pdfocrx/index.php) on one of the PDF files and see if it can be converted into text successfully.\n",
    "\n",
    "* **Hint:** If you're just looking for links, there are a lot of other links on that page! Can you look at the link to know whether it links or minutes or not? You'll want to use an \"if\" statement.\n",
    "* **Hint:** You could also filter out bad links later on using pandas instead of when scraping\n",
    "* **Hint:** If you get a weird error that you can't really figure out, you can always tell Python to just ignore it using `try` and `except`, like below. Python will try to do the stuff inside of 'try', but if it hits an error it will skip right out.\n",
    "* **Hint:** Remember the codes at http://strftime.org\n",
    "* **Hint:** If you have a date that you've parsed, you can use `.dt.strftime` to turn it into a specially-formatted string. You use the same codes (like %B etc) that you use for converting strings into dates.\n",
    "\n",
    "```python\n",
    "try:\n",
    "  blah blah your code\n",
    "  your code\n",
    "  your code\n",
    "except:\n",
    "  pass\n",
    "```"
   ]
  },
  {
   "cell_type": "code",
   "execution_count": 1,
   "metadata": {},
   "outputs": [],
   "source": [
    "import pandas as pd\n",
    "import requests\n",
    "import re\n",
    "import matplotlib\n",
    "import numpy as np\n",
    "import matplotlib.pyplot as plt\n",
    "from bs4 import BeautifulSoup\n",
    "\n",
    "%matplotlib inline"
   ]
  },
  {
   "cell_type": "code",
   "execution_count": 2,
   "metadata": {},
   "outputs": [],
   "source": [
    "my_url= 'http://www.mineral.k12.nv.us/pages/School_Board_Minutes'\n",
    "raw_html = requests.get(my_url)\n",
    "doc = BeautifulSoup(raw_html.text)"
   ]
  },
  {
   "cell_type": "code",
   "execution_count": 9,
   "metadata": {},
   "outputs": [],
   "source": [
    "divs=doc.find('div',id='livesite-page-content-left')"
   ]
  },
  {
   "cell_type": "code",
   "execution_count": 26,
   "metadata": {},
   "outputs": [
    {
     "name": "stdout",
     "output_type": "stream",
     "text": [
      "June 4, 2019\n",
      "May 28, 2019\n",
      "May 7, 2019\n",
      "April 23, 2019\n",
      "April 8, 2019\n",
      "March 19, 2019\n",
      "March 5, 2019\n",
      "February 26, 2019\n",
      "February 5, 2019\n",
      "January 22, 2019\n",
      "January 8, 2019\n",
      "December 20, 2018\n",
      "December 4, 2018\n",
      "November 20, 2018\n",
      "September 25, 2018\n",
      "None\n",
      "None\n",
      "None\n",
      "August 7, 2018 \n",
      "July 24, 2018\n",
      "None\n",
      "None\n",
      "None\n",
      "None\n",
      "June 19, 2108\n",
      "May 29, 2018\n",
      "April 17, 2018\n",
      "April 2, 2018 \n",
      "March 8, 2018\n",
      "March 6, 2018\n",
      "None\n",
      "None\n",
      "January 16, 2018\n",
      "None\n",
      "January 5, 2017\n",
      "January 26, 2017\n",
      "February 2, 2017\n",
      "February 16, 2017\n",
      "March 2, 2017\n",
      "March 16, 2017\n",
      "April 12, 2017\n",
      "May 1, 2017\n",
      "May 4, 2017\n"
     ]
    },
    {
     "ename": "AttributeError",
     "evalue": "'NoneType' object has no attribute 'string'",
     "output_type": "error",
     "traceback": [
      "\u001b[0;31m---------------------------------------------------------------------------\u001b[0m",
      "\u001b[0;31mAttributeError\u001b[0m                            Traceback (most recent call last)",
      "\u001b[0;32m<ipython-input-26-a52327f24ffe>\u001b[0m in \u001b[0;36m<module>\u001b[0;34m\u001b[0m\n\u001b[1;32m      1\u001b[0m \u001b[0mdiva\u001b[0m\u001b[0;34m=\u001b[0m\u001b[0mdivs\u001b[0m\u001b[0;34m.\u001b[0m\u001b[0mfind_all\u001b[0m\u001b[0;34m(\u001b[0m\u001b[0;34m'a'\u001b[0m\u001b[0;34m)\u001b[0m\u001b[0;34m\u001b[0m\u001b[0;34m\u001b[0m\u001b[0m\n\u001b[1;32m      2\u001b[0m \u001b[0;32mfor\u001b[0m \u001b[0mdiv\u001b[0m \u001b[0;32min\u001b[0m \u001b[0mdiva\u001b[0m\u001b[0;34m:\u001b[0m\u001b[0;34m\u001b[0m\u001b[0;34m\u001b[0m\u001b[0m\n\u001b[0;32m----> 3\u001b[0;31m     \u001b[0mprint\u001b[0m\u001b[0;34m(\u001b[0m\u001b[0mdiv\u001b[0m\u001b[0;34m.\u001b[0m\u001b[0mfind\u001b[0m\u001b[0;34m(\u001b[0m\u001b[0;34m'span'\u001b[0m\u001b[0;34m)\u001b[0m\u001b[0;34m.\u001b[0m\u001b[0mstring\u001b[0m\u001b[0;34m)\u001b[0m\u001b[0;34m\u001b[0m\u001b[0;34m\u001b[0m\u001b[0m\n\u001b[0m",
      "\u001b[0;31mAttributeError\u001b[0m: 'NoneType' object has no attribute 'string'"
     ]
    }
   ],
   "source": [
    "diva=divs.find_all('a')\n",
    "for div in diva:\n",
    "    print(div.find('span').string)"
   ]
  },
  {
   "cell_type": "code",
   "execution_count": null,
   "metadata": {},
   "outputs": [],
   "source": []
  }
 ],
 "metadata": {
  "kernelspec": {
   "display_name": "Python 3",
   "language": "python",
   "name": "python3"
  },
  "language_info": {
   "codemirror_mode": {
    "name": "ipython",
    "version": 3
   },
   "file_extension": ".py",
   "mimetype": "text/x-python",
   "name": "python",
   "nbconvert_exporter": "python",
   "pygments_lexer": "ipython3",
   "version": "3.7.1"
  }
 },
 "nbformat": 4,
 "nbformat_minor": 2
}
