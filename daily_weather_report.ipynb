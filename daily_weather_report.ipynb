{
 "cells": [
  {
   "cell_type": "code",
   "execution_count": 6,
   "metadata": {},
   "outputs": [],
   "source": [
    "#https://darksky.net/dev\n",
    "import requests\n",
    "from dotenv import load_dotenv\n",
    "load_dotenv()\n",
    "import os\n",
    "\n",
    "API_KEY = os.getenv(\"DARKSKY_API_KEY\")"
   ]
  },
  {
   "cell_type": "code",
   "execution_count": 11,
   "metadata": {},
   "outputs": [],
   "source": [
    "#querying by latitude and longitude for Soho & UWS\n",
    "response_soho = requests.get(f'https://api.darksky.net/forecast/{API_KEY}/40.7233,-122.4233')\n",
    "data_soho = response_soho.json()\n",
    "response_uws = requests.get(f'https://api.darksky.net/forecast/{API_KEY}/40.7870,-73.9754')\n",
    "data_uws = response_uws.json()"
   ]
  },
  {
   "cell_type": "markdown",
   "metadata": {},
   "source": [
    "TEMPERATURE is the current temperature\n",
    "SUMMARY is what it currently looks like (partly cloudy, etc - it's \"summary\" in the dictionary). Lowercase, please.\n",
    "TEMP_FEELING is whether it will be hot, warm, cold, or moderate. You will probably use HIGH_TEMP and your own thoughts and feelings to determine this.\n",
    "HIGH_TEMP is the high temperature for the day.\n",
    "LOW_TEMP is the low temperature for the day.\n",
    "RAIN_WARNING is something like \"bring your umbrella!\" if it is going to rain at some point during the day."
   ]
  },
  {
   "cell_type": "code",
   "execution_count": 12,
   "metadata": {},
   "outputs": [
    {
     "name": "stdout",
     "output_type": "stream",
     "text": [
      "88.14 80.13\n"
     ]
    }
   ],
   "source": [
    "#TEMPERATURE\n",
    "temperature_soho = data_soho['currently']['temperature']\n",
    "temperature_uws = data_uws['currently']['temperature']\n",
    "print(temperature_soho,temperature_uws)"
   ]
  },
  {
   "cell_type": "code",
   "execution_count": 18,
   "metadata": {},
   "outputs": [
    {
     "name": "stdout",
     "output_type": "stream",
     "text": [
      "94.07 83.58\n"
     ]
    }
   ],
   "source": [
    "#HIGH_TEMP\n",
    "data_soho['daily']\n",
    "high_temp_soho= data_soho['daily']['data'][0]['temperatureHigh']\n",
    "high_temp_uws =data_uws['daily']['data'][0]['temperatureHigh']\n",
    "print(high_temp_soho,high_temp_uws)"
   ]
  },
  {
   "cell_type": "code",
   "execution_count": 20,
   "metadata": {},
   "outputs": [
    {
     "name": "stdout",
     "output_type": "stream",
     "text": [
      "63.16 69.84\n"
     ]
    }
   ],
   "source": [
    "#LOW TEMP\n",
    "low_temp_soho= data_soho['daily']['data'][0]['temperatureLow']\n",
    "low_temp_uws =data_uws['daily']['data'][0]['temperatureLow']\n",
    "print(low_temp_soho,low_temp_uws)"
   ]
  },
  {
   "cell_type": "code",
   "execution_count": null,
   "metadata": {},
   "outputs": [],
   "source": []
  }
 ],
 "metadata": {
  "kernelspec": {
   "display_name": "Python 3",
   "language": "python",
   "name": "python3"
  },
  "language_info": {
   "codemirror_mode": {
    "name": "ipython",
    "version": 3
   },
   "file_extension": ".py",
   "mimetype": "text/x-python",
   "name": "python",
   "nbconvert_exporter": "python",
   "pygments_lexer": "ipython3",
   "version": "3.7.1"
  }
 },
 "nbformat": 4,
 "nbformat_minor": 2
}
